{
 "cells": [
  {
   "cell_type": "markdown",
   "metadata": {},
   "source": [
    "## Importing Libraries"
   ]
  },
  {
   "cell_type": "code",
   "execution_count": 1,
   "metadata": {
    "collapsed": true
   },
   "outputs": [],
   "source": [
    "import pandas as pd\n",
    "import spacy\n",
    "import matplotlib.pyplot as plt\n",
    "import seaborn as sns\n",
    "import numpy as np\n",
    "import pickle\n",
    "sns.set(color_codes=True)\n",
    "%matplotlib inline"
   ]
  },
  {
   "cell_type": "code",
   "execution_count": 2,
   "metadata": {
    "collapsed": false
   },
   "outputs": [],
   "source": [
    "nlp = spacy.load('en')"
   ]
  },
  {
   "cell_type": "markdown",
   "metadata": {},
   "source": [
    "Loading training data"
   ]
  },
  {
   "cell_type": "code",
   "execution_count": 3,
   "metadata": {
    "collapsed": true
   },
   "outputs": [],
   "source": [
    "\n",
    "with open('../data/training_data.txt','r') as fh:\n",
    "    data = fh.read().splitlines()"
   ]
  },
  {
   "cell_type": "markdown",
   "metadata": {},
   "source": [
    "Splitting every line to find sentence and corresponding label"
   ]
  },
  {
   "cell_type": "code",
   "execution_count": 4,
   "metadata": {
    "collapsed": true
   },
   "outputs": [],
   "source": [
    "sentence = []\n",
    "label = []\n",
    "for sent in data:\n",
    "    sent = sent.split(',,,')\n",
    "    sentence.append(sent[0].strip())\n",
    "    label.append(sent[1].strip())"
   ]
  },
  {
   "cell_type": "code",
   "execution_count": 5,
   "metadata": {
    "collapsed": true
   },
   "outputs": [],
   "source": [
    "feature_columns = [\n",
    "    'FIRST_WORD', 'FIRST_WORD_POS','FIRST_NBOR_POS', 'ROOT_TAG',\n",
    "]"
   ]
  },
  {
   "cell_type": "code",
   "execution_count": 6,
   "metadata": {
    "collapsed": true
   },
   "outputs": [],
   "source": [
    "#category encoding while training and reverse while testing\n",
    "label_dict = {\n",
    "    'who': 0,\n",
    "    'what': 1,\n",
    "    'when': 2,\n",
    "    'affirmation': 3,\n",
    "    'unknown': 4,\n",
    "    0: 'who',\n",
    "    1: 'what',\n",
    "    2: 'when',\n",
    "    3: 'affirmation',\n",
    "    4: 'unknown'\n",
    "}"
   ]
  },
  {
   "cell_type": "code",
   "execution_count": 7,
   "metadata": {
    "collapsed": false
   },
   "outputs": [],
   "source": [
    "def process(sentence):\n",
    "    wh_word_ = ''\n",
    "    wh_pos_ = ''\n",
    "    wh_nbor_pos_ = ''\n",
    "    root_tag_ = ''\n",
    "    doc = nlp(sentence.lower())\n",
    "    sent_list = list(doc.sents)\n",
    "    sent = sent_list[0]\n",
    "    found = False\n",
    "    for token in sent:\n",
    "        if found == False:\n",
    "            if (token.tag_ in ('MD', 'VBZ', 'VBP')\n",
    "                    and token.i == 0) or token.tag_ in ('WP', 'WDT', 'WP$',\n",
    "                                                        'WRB'):\n",
    "                wh_word_ = token.text\n",
    "                wh_pos_ = token.tag_\n",
    "                wh_nbor_pos_ = sent[token.i + 1].tag_\n",
    "                found = True\n",
    "            if token.i - 1 >= 0 and token.i + 1 < len(sent):\n",
    "                if (sent[token.i - 1].dep_ in ('punct')\n",
    "                        and sent[token.i].tag_ in ('VBZ', 'MD', 'VBP')):\n",
    "                    wh_word_ = token.text\n",
    "                    wh_pos_ = token.tag_\n",
    "                    wh_nbor_pos_ = sent[token.i + 1].tag_\n",
    "                    found = True\n",
    "        if token.dep_ == 'ROOT':\n",
    "            root_tag_ = token.tag_\n",
    "    if found == False:\n",
    "        wh_word_ = sent[0].text\n",
    "        wh_pos_ = sent[0].tag_\n",
    "        wh_nbor_pos_ = sent[1].tag_\n",
    "    return wh_word_, wh_pos_, wh_nbor_pos_, root_tag_"
   ]
  },
  {
   "cell_type": "code",
   "execution_count": 8,
   "metadata": {
    "collapsed": false
   },
   "outputs": [
    {
     "name": "stdout",
     "output_type": "stream",
     "text": [
      "Completed\n"
     ]
    }
   ],
   "source": [
    "##processing training data to find features\n",
    "\n",
    "data = []\n",
    "for i in range(len(sentence)):\n",
    "    data.append(list(process(sentence[i])))\n",
    "print('Completed')"
   ]
  },
  {
   "cell_type": "code",
   "execution_count": 9,
   "metadata": {
    "collapsed": false
   },
   "outputs": [],
   "source": [
    "training_data = pd.DataFrame(data=data,columns=feature_columns)"
   ]
  },
  {
   "cell_type": "code",
   "execution_count": 10,
   "metadata": {
    "collapsed": false
   },
   "outputs": [],
   "source": [
    "training_data['LABEL'] = label"
   ]
  },
  {
   "cell_type": "code",
   "execution_count": 11,
   "metadata": {
    "collapsed": false
   },
   "outputs": [
    {
     "data": {
      "text/html": [
       "<div>\n",
       "<style scoped>\n",
       "    .dataframe tbody tr th:only-of-type {\n",
       "        vertical-align: middle;\n",
       "    }\n",
       "\n",
       "    .dataframe tbody tr th {\n",
       "        vertical-align: top;\n",
       "    }\n",
       "\n",
       "    .dataframe thead th {\n",
       "        text-align: right;\n",
       "    }\n",
       "</style>\n",
       "<table border=\"1\" class=\"dataframe\">\n",
       "  <thead>\n",
       "    <tr style=\"text-align: right;\">\n",
       "      <th></th>\n",
       "      <th>FIRST_WORD</th>\n",
       "      <th>FIRST_WORD_POS</th>\n",
       "      <th>FIRST_NBOR_POS</th>\n",
       "      <th>ROOT_TAG</th>\n",
       "      <th>LABEL</th>\n",
       "    </tr>\n",
       "  </thead>\n",
       "  <tbody>\n",
       "    <tr>\n",
       "      <th>0</th>\n",
       "      <td>how</td>\n",
       "      <td>WRB</td>\n",
       "      <td>VBD</td>\n",
       "      <td>VB</td>\n",
       "      <td>unknown</td>\n",
       "    </tr>\n",
       "    <tr>\n",
       "      <th>1</th>\n",
       "      <td>what</td>\n",
       "      <td>WP</td>\n",
       "      <td>NNS</td>\n",
       "      <td>VBD</td>\n",
       "      <td>what</td>\n",
       "    </tr>\n",
       "    <tr>\n",
       "      <th>2</th>\n",
       "      <td>how</td>\n",
       "      <td>WRB</td>\n",
       "      <td>MD</td>\n",
       "      <td>VB</td>\n",
       "      <td>unknown</td>\n",
       "    </tr>\n",
       "    <tr>\n",
       "      <th>3</th>\n",
       "      <td>what</td>\n",
       "      <td>WDT</td>\n",
       "      <td>NN</td>\n",
       "      <td>VBZ</td>\n",
       "      <td>what</td>\n",
       "    </tr>\n",
       "    <tr>\n",
       "      <th>4</th>\n",
       "      <td>what</td>\n",
       "      <td>WP</td>\n",
       "      <td>VBZ</td>\n",
       "      <td>VBZ</td>\n",
       "      <td>what</td>\n",
       "    </tr>\n",
       "  </tbody>\n",
       "</table>\n",
       "</div>"
      ],
      "text/plain": [
       "  FIRST_WORD FIRST_WORD_POS FIRST_NBOR_POS ROOT_TAG    LABEL\n",
       "0        how            WRB            VBD       VB  unknown\n",
       "1       what             WP            NNS      VBD     what\n",
       "2        how            WRB             MD       VB  unknown\n",
       "3       what            WDT             NN      VBZ     what\n",
       "4       what             WP            VBZ      VBZ     what"
      ]
     },
     "execution_count": 11,
     "metadata": {},
     "output_type": "execute_result"
    }
   ],
   "source": [
    "training_data.head()"
   ]
  },
  {
   "cell_type": "markdown",
   "metadata": {},
   "source": [
    "Loading Test Data"
   ]
  },
  {
   "cell_type": "code",
   "execution_count": 12,
   "metadata": {
    "collapsed": true
   },
   "outputs": [],
   "source": [
    "with open('../data/test_data.txt','r') as fh:\n",
    "    data = fh.read().splitlines()"
   ]
  },
  {
   "cell_type": "code",
   "execution_count": 13,
   "metadata": {
    "collapsed": true
   },
   "outputs": [],
   "source": [
    "#splitting test data to find sentences only\n",
    "\n",
    "sentence = []\n",
    "for sent in data:\n",
    "    sent = sent.split(' ',1)\n",
    "    sentence.append(sent[1].strip())"
   ]
  },
  {
   "cell_type": "code",
   "execution_count": 14,
   "metadata": {
    "collapsed": false
   },
   "outputs": [
    {
     "name": "stdout",
     "output_type": "stream",
     "text": [
      "Completed\n"
     ]
    }
   ],
   "source": [
    "##processing test data to make features\n",
    "\n",
    "data = []\n",
    "for i in range(len(sentence)):\n",
    "    data.append(list(process(sentence[i])))\n",
    "    print(i, end='\\r')\n",
    "print('Completed')"
   ]
  },
  {
   "cell_type": "code",
   "execution_count": 15,
   "metadata": {
    "collapsed": false,
    "scrolled": true
   },
   "outputs": [],
   "source": [
    "testing_data = pd.DataFrame(data=data,columns=feature_columns)"
   ]
  },
  {
   "cell_type": "code",
   "execution_count": 16,
   "metadata": {
    "collapsed": false
   },
   "outputs": [
    {
     "data": {
      "text/html": [
       "<div>\n",
       "<style scoped>\n",
       "    .dataframe tbody tr th:only-of-type {\n",
       "        vertical-align: middle;\n",
       "    }\n",
       "\n",
       "    .dataframe tbody tr th {\n",
       "        vertical-align: top;\n",
       "    }\n",
       "\n",
       "    .dataframe thead th {\n",
       "        text-align: right;\n",
       "    }\n",
       "</style>\n",
       "<table border=\"1\" class=\"dataframe\">\n",
       "  <thead>\n",
       "    <tr style=\"text-align: right;\">\n",
       "      <th></th>\n",
       "      <th>FIRST_WORD</th>\n",
       "      <th>FIRST_WORD_POS</th>\n",
       "      <th>FIRST_NBOR_POS</th>\n",
       "      <th>ROOT_TAG</th>\n",
       "    </tr>\n",
       "  </thead>\n",
       "  <tbody>\n",
       "    <tr>\n",
       "      <th>0</th>\n",
       "      <td>how</td>\n",
       "      <td>WRB</td>\n",
       "      <td>VBD</td>\n",
       "      <td>VB</td>\n",
       "    </tr>\n",
       "    <tr>\n",
       "      <th>1</th>\n",
       "      <td>what</td>\n",
       "      <td>WP</td>\n",
       "      <td>NNS</td>\n",
       "      <td>VBD</td>\n",
       "    </tr>\n",
       "    <tr>\n",
       "      <th>2</th>\n",
       "      <td>how</td>\n",
       "      <td>WRB</td>\n",
       "      <td>MD</td>\n",
       "      <td>VB</td>\n",
       "    </tr>\n",
       "    <tr>\n",
       "      <th>3</th>\n",
       "      <td>what</td>\n",
       "      <td>WDT</td>\n",
       "      <td>NN</td>\n",
       "      <td>VBZ</td>\n",
       "    </tr>\n",
       "    <tr>\n",
       "      <th>4</th>\n",
       "      <td>what</td>\n",
       "      <td>WP</td>\n",
       "      <td>VBZ</td>\n",
       "      <td>VBZ</td>\n",
       "    </tr>\n",
       "  </tbody>\n",
       "</table>\n",
       "</div>"
      ],
      "text/plain": [
       "  FIRST_WORD FIRST_WORD_POS FIRST_NBOR_POS ROOT_TAG\n",
       "0        how            WRB            VBD       VB\n",
       "1       what             WP            NNS      VBD\n",
       "2        how            WRB             MD       VB\n",
       "3       what            WDT             NN      VBZ\n",
       "4       what             WP            VBZ      VBZ"
      ]
     },
     "execution_count": 16,
     "metadata": {},
     "output_type": "execute_result"
    }
   ],
   "source": [
    "testing_data.head()"
   ]
  },
  {
   "cell_type": "code",
   "execution_count": 17,
   "metadata": {
    "collapsed": true
   },
   "outputs": [],
   "source": [
    "#pickling testing data for later\n",
    "testing_data.to_pickle('testing_data.pickle')"
   ]
  },
  {
   "cell_type": "code",
   "execution_count": 18,
   "metadata": {
    "collapsed": false
   },
   "outputs": [],
   "source": [
    "#pickling parsed sentences to check our results \n",
    "parsed_sentences = pd.DataFrame(data = sentence,columns=['SENTENCES'])\n",
    "\n",
    "parsed_sentences.to_pickle('parsed_sentences.pickle')"
   ]
  },
  {
   "cell_type": "markdown",
   "metadata": {},
   "source": [
    "### 'Affirmation' Data"
   ]
  },
  {
   "cell_type": "code",
   "execution_count": 19,
   "metadata": {
    "collapsed": false
   },
   "outputs": [],
   "source": [
    "affirmation_data = training_data[(training_data['LABEL']=='affirmation')]"
   ]
  },
  {
   "cell_type": "code",
   "execution_count": 20,
   "metadata": {
    "collapsed": false,
    "scrolled": true
   },
   "outputs": [
    {
     "data": {
      "text/html": [
       "<div>\n",
       "<style scoped>\n",
       "    .dataframe tbody tr th:only-of-type {\n",
       "        vertical-align: middle;\n",
       "    }\n",
       "\n",
       "    .dataframe tbody tr th {\n",
       "        vertical-align: top;\n",
       "    }\n",
       "\n",
       "    .dataframe thead th {\n",
       "        text-align: right;\n",
       "    }\n",
       "</style>\n",
       "<table border=\"1\" class=\"dataframe\">\n",
       "  <thead>\n",
       "    <tr style=\"text-align: right;\">\n",
       "      <th></th>\n",
       "      <th>FIRST_WORD</th>\n",
       "      <th>FIRST_WORD_POS</th>\n",
       "      <th>FIRST_NBOR_POS</th>\n",
       "      <th>ROOT_TAG</th>\n",
       "      <th>LABEL</th>\n",
       "    </tr>\n",
       "  </thead>\n",
       "  <tbody>\n",
       "    <tr>\n",
       "      <th>1000</th>\n",
       "      <td>is</td>\n",
       "      <td>VBZ</td>\n",
       "      <td>EX</td>\n",
       "      <td>VBZ</td>\n",
       "      <td>affirmation</td>\n",
       "    </tr>\n",
       "    <tr>\n",
       "      <th>1001</th>\n",
       "      <td>is</td>\n",
       "      <td>VBZ</td>\n",
       "      <td>PRP</td>\n",
       "      <td>VBG</td>\n",
       "      <td>affirmation</td>\n",
       "    </tr>\n",
       "    <tr>\n",
       "      <th>1002</th>\n",
       "      <td>is</td>\n",
       "      <td>VBZ</td>\n",
       "      <td>EX</td>\n",
       "      <td>VBZ</td>\n",
       "      <td>affirmation</td>\n",
       "    </tr>\n",
       "    <tr>\n",
       "      <th>1003</th>\n",
       "      <td>is</td>\n",
       "      <td>VBZ</td>\n",
       "      <td>EX</td>\n",
       "      <td>VBZ</td>\n",
       "      <td>affirmation</td>\n",
       "    </tr>\n",
       "    <tr>\n",
       "      <th>1383</th>\n",
       "      <td>does</td>\n",
       "      <td>VBZ</td>\n",
       "      <td>DT</td>\n",
       "      <td>VB</td>\n",
       "      <td>affirmation</td>\n",
       "    </tr>\n",
       "  </tbody>\n",
       "</table>\n",
       "</div>"
      ],
      "text/plain": [
       "     FIRST_WORD FIRST_WORD_POS FIRST_NBOR_POS ROOT_TAG        LABEL\n",
       "1000         is            VBZ             EX      VBZ  affirmation\n",
       "1001         is            VBZ            PRP      VBG  affirmation\n",
       "1002         is            VBZ             EX      VBZ  affirmation\n",
       "1003         is            VBZ             EX      VBZ  affirmation\n",
       "1383       does            VBZ             DT       VB  affirmation"
      ]
     },
     "execution_count": 20,
     "metadata": {},
     "output_type": "execute_result"
    }
   ],
   "source": [
    "affirmation_data.head()"
   ]
  },
  {
   "cell_type": "code",
   "execution_count": 21,
   "metadata": {
    "collapsed": false
   },
   "outputs": [],
   "source": [
    "first_word_df = affirmation_data.groupby(\n",
    "    'FIRST_WORD').size().reset_index().rename(columns={\n",
    "        0: 'COUNT'\n",
    "    }).sort_values(\n",
    "        'COUNT', ascending=False)"
   ]
  },
  {
   "cell_type": "code",
   "execution_count": 22,
   "metadata": {
    "collapsed": false
   },
   "outputs": [
    {
     "data": {
      "image/png": "[encoded data removed]",
      "text/plain": [
       "<Figure size 800x400 with 1 Axes>"
      ]
     },
     "metadata": {},
     "output_type": "display_data"
    }
   ],
   "source": [
    "f, ax = plt.subplots(figsize=(8, 4))\n",
    "ax = sns.barplot(x=\"FIRST_WORD\", y=\"COUNT\", data=first_word_df)"
   ]
  },
  {
   "cell_type": "code",
   "execution_count": 23,
   "metadata": {
    "collapsed": true
   },
   "outputs": [],
   "source": [
    "##since the count of words 'which' and 'has' is very less..we need to check whether they are\n",
    "##correct observations or not"
   ]
  },
  {
   "cell_type": "code",
   "execution_count": 24,
   "metadata": {
    "collapsed": false
   },
   "outputs": [],
   "source": [
    "first_word_pos = affirmation_data.groupby(\n",
    "    ['FIRST_WORD_POS','FIRST_WORD']).size().reset_index().rename(columns={\n",
    "        0: 'COUNT'\n",
    "    }).sort_values(\n",
    "        'COUNT', ascending=False)"
   ]
  },
  {
   "cell_type": "code",
   "execution_count": 25,
   "metadata": {
    "collapsed": false
   },
   "outputs": [
    {
     "data": {
      "text/plain": [
       "<matplotlib.axes._subplots.AxesSubplot at 0x7ff879106d30>"
      ]
     },
     "execution_count": 25,
     "metadata": {},
     "output_type": "execute_result"
    },
    {
     "data": {
      "image/png": "[encoded data removed]",
      "text/plain": [
       "<Figure size 1000x700 with 1 Axes>"
      ]
     },
     "metadata": {},
     "output_type": "display_data"
    }
   ],
   "source": [
    "f, ax = plt.subplots(figsize=(10, 7))\n",
    "sns.barplot(\n",
    "    x=\"FIRST_WORD\",y='COUNT',hue=\"FIRST_WORD_POS\", data=first_word_pos,dodge=False)"
   ]
  },
  {
   "cell_type": "markdown",
   "metadata": {},
   "source": [
    "VBZ,MD and VBP are in good quantity but 'has' and 'which' are very less..also there is no way 'which' can come in affirmation question.This seems to be an outlier so we can remove 'which' observation from our data"
   ]
  },
  {
   "cell_type": "code",
   "execution_count": 26,
   "metadata": {
    "collapsed": false
   },
   "outputs": [],
   "source": [
    "affirmation_data = affirmation_data[~(affirmation_data['FIRST_WORD_POS']=='WDT')]"
   ]
  },
  {
   "cell_type": "code",
   "execution_count": 27,
   "metadata": {
    "collapsed": false
   },
   "outputs": [
    {
     "data": {
      "text/plain": [
       "103"
      ]
     },
     "execution_count": 27,
     "metadata": {},
     "output_type": "execute_result"
    }
   ],
   "source": [
    "len(affirmation_data)"
   ]
  },
  {
   "cell_type": "markdown",
   "metadata": {},
   "source": [
    "### 'Who' Data"
   ]
  },
  {
   "cell_type": "code",
   "execution_count": 28,
   "metadata": {
    "collapsed": false,
    "scrolled": true
   },
   "outputs": [],
   "source": [
    "who_data = training_data[(training_data['LABEL']=='who')]"
   ]
  },
  {
   "cell_type": "code",
   "execution_count": 29,
   "metadata": {
    "collapsed": false
   },
   "outputs": [
    {
     "data": {
      "text/html": [
       "<div>\n",
       "<style scoped>\n",
       "    .dataframe tbody tr th:only-of-type {\n",
       "        vertical-align: middle;\n",
       "    }\n",
       "\n",
       "    .dataframe tbody tr th {\n",
       "        vertical-align: top;\n",
       "    }\n",
       "\n",
       "    .dataframe thead th {\n",
       "        text-align: right;\n",
       "    }\n",
       "</style>\n",
       "<table border=\"1\" class=\"dataframe\">\n",
       "  <thead>\n",
       "    <tr style=\"text-align: right;\">\n",
       "      <th></th>\n",
       "      <th>FIRST_WORD</th>\n",
       "      <th>FIRST_WORD_POS</th>\n",
       "      <th>FIRST_NBOR_POS</th>\n",
       "      <th>ROOT_TAG</th>\n",
       "      <th>LABEL</th>\n",
       "    </tr>\n",
       "  </thead>\n",
       "  <tbody>\n",
       "    <tr>\n",
       "      <th>12</th>\n",
       "      <td>who</td>\n",
       "      <td>WP</td>\n",
       "      <td>VBD</td>\n",
       "      <td>VBD</td>\n",
       "      <td>who</td>\n",
       "    </tr>\n",
       "    <tr>\n",
       "      <th>13</th>\n",
       "      <td>who</td>\n",
       "      <td>WP</td>\n",
       "      <td>VBD</td>\n",
       "      <td>VBD</td>\n",
       "      <td>who</td>\n",
       "    </tr>\n",
       "    <tr>\n",
       "      <th>26</th>\n",
       "      <td>who</td>\n",
       "      <td>WP</td>\n",
       "      <td>VBD</td>\n",
       "      <td>VBD</td>\n",
       "      <td>who</td>\n",
       "    </tr>\n",
       "    <tr>\n",
       "      <th>52</th>\n",
       "      <td>who</td>\n",
       "      <td>WP</td>\n",
       "      <td>VBD</td>\n",
       "      <td>VBD</td>\n",
       "      <td>who</td>\n",
       "    </tr>\n",
       "    <tr>\n",
       "      <th>54</th>\n",
       "      <td>who</td>\n",
       "      <td>WP</td>\n",
       "      <td>VBZ</td>\n",
       "      <td>VBZ</td>\n",
       "      <td>who</td>\n",
       "    </tr>\n",
       "  </tbody>\n",
       "</table>\n",
       "</div>"
      ],
      "text/plain": [
       "   FIRST_WORD FIRST_WORD_POS FIRST_NBOR_POS ROOT_TAG LABEL\n",
       "12        who             WP            VBD      VBD   who\n",
       "13        who             WP            VBD      VBD   who\n",
       "26        who             WP            VBD      VBD   who\n",
       "52        who             WP            VBD      VBD   who\n",
       "54        who             WP            VBZ      VBZ   who"
      ]
     },
     "execution_count": 29,
     "metadata": {},
     "output_type": "execute_result"
    }
   ],
   "source": [
    "who_data.head()"
   ]
  },
  {
   "cell_type": "code",
   "execution_count": 30,
   "metadata": {
    "collapsed": true
   },
   "outputs": [],
   "source": [
    "first_word_pos = who_data.groupby(\n",
    "    ['FIRST_WORD_POS','FIRST_WORD']).size().reset_index().rename(columns={\n",
    "        0: 'COUNT'\n",
    "    }).sort_values(\n",
    "        'COUNT', ascending=False)"
   ]
  },
  {
   "cell_type": "code",
   "execution_count": 31,
   "metadata": {
    "collapsed": false
   },
   "outputs": [
    {
     "data": {
      "text/plain": [
       "<matplotlib.axes._subplots.AxesSubplot at 0x7ff8790656a0>"
      ]
     },
     "execution_count": 31,
     "metadata": {},
     "output_type": "execute_result"
    },
    {
     "data": {
      "image/png": "[encoded data removed]",
      "text/plain": [
       "<Figure size 400x500 with 1 Axes>"
      ]
     },
     "metadata": {},
     "output_type": "display_data"
    }
   ],
   "source": [
    "f, ax = plt.subplots(figsize=(4, 5))\n",
    "sns.barplot(\n",
    "    x=\"FIRST_WORD\",y='COUNT',hue=\"FIRST_WORD_POS\", data=first_word_pos,dodge=False)"
   ]
  },
  {
   "cell_type": "code",
   "execution_count": 32,
   "metadata": {
    "collapsed": true
   },
   "outputs": [],
   "source": [
    "## count of 'what' is very less..have to check this observation"
   ]
  },
  {
   "cell_type": "code",
   "execution_count": 33,
   "metadata": {
    "collapsed": false
   },
   "outputs": [
    {
     "data": {
      "text/html": [
       "<div>\n",
       "<style scoped>\n",
       "    .dataframe tbody tr th:only-of-type {\n",
       "        vertical-align: middle;\n",
       "    }\n",
       "\n",
       "    .dataframe tbody tr th {\n",
       "        vertical-align: top;\n",
       "    }\n",
       "\n",
       "    .dataframe thead th {\n",
       "        text-align: right;\n",
       "    }\n",
       "</style>\n",
       "<table border=\"1\" class=\"dataframe\">\n",
       "  <thead>\n",
       "    <tr style=\"text-align: right;\">\n",
       "      <th></th>\n",
       "      <th>FIRST_WORD</th>\n",
       "      <th>FIRST_WORD_POS</th>\n",
       "      <th>FIRST_NBOR_POS</th>\n",
       "      <th>ROOT_TAG</th>\n",
       "      <th>LABEL</th>\n",
       "    </tr>\n",
       "  </thead>\n",
       "  <tbody>\n",
       "    <tr>\n",
       "      <th>1158</th>\n",
       "      <td>what</td>\n",
       "      <td>WDT</td>\n",
       "      <td>NN</td>\n",
       "      <td>VBD</td>\n",
       "      <td>who</td>\n",
       "    </tr>\n",
       "  </tbody>\n",
       "</table>\n",
       "</div>"
      ],
      "text/plain": [
       "     FIRST_WORD FIRST_WORD_POS FIRST_NBOR_POS ROOT_TAG LABEL\n",
       "1158       what            WDT             NN      VBD   who"
      ]
     },
     "execution_count": 33,
     "metadata": {},
     "output_type": "execute_result"
    }
   ],
   "source": [
    "who_data[who_data['FIRST_WORD_POS']=='WDT']"
   ]
  },
  {
   "cell_type": "code",
   "execution_count": 34,
   "metadata": {
    "collapsed": true
   },
   "outputs": [],
   "source": [
    "#'what' is tagged as WH-Determiner because it not acting as the head of a wh- noun phrase,so this\n",
    "#observation is correct and is importance feature for our classifier"
   ]
  },
  {
   "cell_type": "markdown",
   "metadata": {},
   "source": [
    "### 'What' Data"
   ]
  },
  {
   "cell_type": "code",
   "execution_count": 35,
   "metadata": {
    "collapsed": true
   },
   "outputs": [],
   "source": [
    "what_data = training_data[(training_data['LABEL']=='what')]"
   ]
  },
  {
   "cell_type": "code",
   "execution_count": 36,
   "metadata": {
    "collapsed": false
   },
   "outputs": [
    {
     "data": {
      "text/html": [
       "<div>\n",
       "<style scoped>\n",
       "    .dataframe tbody tr th:only-of-type {\n",
       "        vertical-align: middle;\n",
       "    }\n",
       "\n",
       "    .dataframe tbody tr th {\n",
       "        vertical-align: top;\n",
       "    }\n",
       "\n",
       "    .dataframe thead th {\n",
       "        text-align: right;\n",
       "    }\n",
       "</style>\n",
       "<table border=\"1\" class=\"dataframe\">\n",
       "  <thead>\n",
       "    <tr style=\"text-align: right;\">\n",
       "      <th></th>\n",
       "      <th>FIRST_WORD</th>\n",
       "      <th>FIRST_WORD_POS</th>\n",
       "      <th>FIRST_NBOR_POS</th>\n",
       "      <th>ROOT_TAG</th>\n",
       "      <th>LABEL</th>\n",
       "    </tr>\n",
       "  </thead>\n",
       "  <tbody>\n",
       "    <tr>\n",
       "      <th>1</th>\n",
       "      <td>what</td>\n",
       "      <td>WP</td>\n",
       "      <td>NNS</td>\n",
       "      <td>VBD</td>\n",
       "      <td>what</td>\n",
       "    </tr>\n",
       "    <tr>\n",
       "      <th>3</th>\n",
       "      <td>what</td>\n",
       "      <td>WDT</td>\n",
       "      <td>NN</td>\n",
       "      <td>VBZ</td>\n",
       "      <td>what</td>\n",
       "    </tr>\n",
       "    <tr>\n",
       "      <th>4</th>\n",
       "      <td>what</td>\n",
       "      <td>WP</td>\n",
       "      <td>VBZ</td>\n",
       "      <td>VBZ</td>\n",
       "      <td>what</td>\n",
       "    </tr>\n",
       "    <tr>\n",
       "      <th>5</th>\n",
       "      <td>what</td>\n",
       "      <td>WP</td>\n",
       "      <td>JJ</td>\n",
       "      <td>VBD</td>\n",
       "      <td>what</td>\n",
       "    </tr>\n",
       "    <tr>\n",
       "      <th>6</th>\n",
       "      <td>what</td>\n",
       "      <td>WDT</td>\n",
       "      <td>NN</td>\n",
       "      <td>VBD</td>\n",
       "      <td>what</td>\n",
       "    </tr>\n",
       "  </tbody>\n",
       "</table>\n",
       "</div>"
      ],
      "text/plain": [
       "  FIRST_WORD FIRST_WORD_POS FIRST_NBOR_POS ROOT_TAG LABEL\n",
       "1       what             WP            NNS      VBD  what\n",
       "3       what            WDT             NN      VBZ  what\n",
       "4       what             WP            VBZ      VBZ  what\n",
       "5       what             WP             JJ      VBD  what\n",
       "6       what            WDT             NN      VBD  what"
      ]
     },
     "execution_count": 36,
     "metadata": {},
     "output_type": "execute_result"
    }
   ],
   "source": [
    "what_data.head()"
   ]
  },
  {
   "cell_type": "code",
   "execution_count": 37,
   "metadata": {
    "collapsed": true
   },
   "outputs": [],
   "source": [
    "first_word_pos = what_data.groupby(\n",
    "    ['FIRST_WORD_POS','FIRST_WORD']).size().reset_index().rename(columns={\n",
    "        0: 'COUNT'\n",
    "    }).sort_values(\n",
    "        'COUNT', ascending=False)"
   ]
  },
  {
   "cell_type": "code",
   "execution_count": 38,
   "metadata": {
    "collapsed": false
   },
   "outputs": [
    {
     "data": {
      "text/plain": [
       "<matplotlib.axes._subplots.AxesSubplot at 0x7ff8790174e0>"
      ]
     },
     "execution_count": 38,
     "metadata": {},
     "output_type": "execute_result"
    },
    {
     "data": {
      "image/png": "[encoded data removed]",
      "text/plain": [
       "<Figure size 400x500 with 1 Axes>"
      ]
     },
     "metadata": {},
     "output_type": "display_data"
    }
   ],
   "source": [
    "f, ax = plt.subplots(figsize=(4, 5))\n",
    "sns.barplot(\n",
    "    x=\"FIRST_WORD\",y='COUNT',hue=\"FIRST_WORD_POS\", data=first_word_pos,dodge=False)"
   ]
  },
  {
   "cell_type": "code",
   "execution_count": 39,
   "metadata": {
    "collapsed": true
   },
   "outputs": [],
   "source": [
    "##since count of 'when' and 'who' is less.need to check"
   ]
  },
  {
   "cell_type": "code",
   "execution_count": 40,
   "metadata": {
    "collapsed": false
   },
   "outputs": [
    {
     "data": {
      "text/html": [
       "<div>\n",
       "<style scoped>\n",
       "    .dataframe tbody tr th:only-of-type {\n",
       "        vertical-align: middle;\n",
       "    }\n",
       "\n",
       "    .dataframe tbody tr th {\n",
       "        vertical-align: top;\n",
       "    }\n",
       "\n",
       "    .dataframe thead th {\n",
       "        text-align: right;\n",
       "    }\n",
       "</style>\n",
       "<table border=\"1\" class=\"dataframe\">\n",
       "  <thead>\n",
       "    <tr style=\"text-align: right;\">\n",
       "      <th></th>\n",
       "      <th>FIRST_WORD</th>\n",
       "      <th>FIRST_WORD_POS</th>\n",
       "      <th>FIRST_NBOR_POS</th>\n",
       "      <th>ROOT_TAG</th>\n",
       "      <th>LABEL</th>\n",
       "    </tr>\n",
       "  </thead>\n",
       "  <tbody>\n",
       "    <tr>\n",
       "      <th>98</th>\n",
       "      <td>when</td>\n",
       "      <td>WRB</td>\n",
       "      <td>VBD</td>\n",
       "      <td>VBD</td>\n",
       "      <td>what</td>\n",
       "    </tr>\n",
       "    <tr>\n",
       "      <th>277</th>\n",
       "      <td>when</td>\n",
       "      <td>WRB</td>\n",
       "      <td>VBZ</td>\n",
       "      <td>VBG</td>\n",
       "      <td>what</td>\n",
       "    </tr>\n",
       "    <tr>\n",
       "      <th>482</th>\n",
       "      <td>when</td>\n",
       "      <td>WRB</td>\n",
       "      <td>VBZ</td>\n",
       "      <td>VBZ</td>\n",
       "      <td>what</td>\n",
       "    </tr>\n",
       "    <tr>\n",
       "      <th>503</th>\n",
       "      <td>who</td>\n",
       "      <td>WP</td>\n",
       "      <td>VBD</td>\n",
       "      <td>VBD</td>\n",
       "      <td>what</td>\n",
       "    </tr>\n",
       "    <tr>\n",
       "      <th>575</th>\n",
       "      <td>who</td>\n",
       "      <td>WP</td>\n",
       "      <td>VBD</td>\n",
       "      <td>VBD</td>\n",
       "      <td>what</td>\n",
       "    </tr>\n",
       "    <tr>\n",
       "      <th>647</th>\n",
       "      <td>who</td>\n",
       "      <td>WP</td>\n",
       "      <td>VBD</td>\n",
       "      <td>VBD</td>\n",
       "      <td>what</td>\n",
       "    </tr>\n",
       "    <tr>\n",
       "      <th>783</th>\n",
       "      <td>when</td>\n",
       "      <td>WRB</td>\n",
       "      <td>VBD</td>\n",
       "      <td>VBD</td>\n",
       "      <td>what</td>\n",
       "    </tr>\n",
       "    <tr>\n",
       "      <th>787</th>\n",
       "      <td>when</td>\n",
       "      <td>WRB</td>\n",
       "      <td>VBD</td>\n",
       "      <td>VBD</td>\n",
       "      <td>what</td>\n",
       "    </tr>\n",
       "  </tbody>\n",
       "</table>\n",
       "</div>"
      ],
      "text/plain": [
       "    FIRST_WORD FIRST_WORD_POS FIRST_NBOR_POS ROOT_TAG LABEL\n",
       "98        when            WRB            VBD      VBD  what\n",
       "277       when            WRB            VBZ      VBG  what\n",
       "482       when            WRB            VBZ      VBZ  what\n",
       "503        who             WP            VBD      VBD  what\n",
       "575        who             WP            VBD      VBD  what\n",
       "647        who             WP            VBD      VBD  what\n",
       "783       when            WRB            VBD      VBD  what\n",
       "787       when            WRB            VBD      VBD  what"
      ]
     },
     "execution_count": 40,
     "metadata": {},
     "output_type": "execute_result"
    }
   ],
   "source": [
    "what_data[what_data['FIRST_WORD'].isin(['when','who'])]"
   ]
  },
  {
   "cell_type": "code",
   "execution_count": 41,
   "metadata": {
    "collapsed": true
   },
   "outputs": [],
   "source": [
    "##second and third observation whose 'firt nbor pos' is VBZ,seems wrongly labelled because 'when'\n",
    "# first word pos 'WRB' and first nbor pos 'VBZ' mostly comes when output label is 'when'\n",
    "\n",
    "#these two are outliers..so can be removed"
   ]
  },
  {
   "cell_type": "code",
   "execution_count": 42,
   "metadata": {
    "collapsed": false
   },
   "outputs": [],
   "source": [
    "what_data = what_data[~((what_data['FIRST_WORD']=='when')&(what_data['FIRST_NBOR_POS']=='VBZ'))]"
   ]
  },
  {
   "cell_type": "code",
   "execution_count": 43,
   "metadata": {
    "collapsed": false
   },
   "outputs": [
    {
     "data": {
      "text/plain": [
       "607"
      ]
     },
     "execution_count": 43,
     "metadata": {},
     "output_type": "execute_result"
    }
   ],
   "source": [
    "len(what_data)"
   ]
  },
  {
   "cell_type": "markdown",
   "metadata": {},
   "source": [
    "### 'When' Data"
   ]
  },
  {
   "cell_type": "code",
   "execution_count": 44,
   "metadata": {
    "collapsed": true
   },
   "outputs": [],
   "source": [
    "when_data = training_data[(training_data['LABEL']=='when')]"
   ]
  },
  {
   "cell_type": "code",
   "execution_count": 45,
   "metadata": {
    "collapsed": false
   },
   "outputs": [
    {
     "data": {
      "text/html": [
       "<div>\n",
       "<style scoped>\n",
       "    .dataframe tbody tr th:only-of-type {\n",
       "        vertical-align: middle;\n",
       "    }\n",
       "\n",
       "    .dataframe tbody tr th {\n",
       "        vertical-align: top;\n",
       "    }\n",
       "\n",
       "    .dataframe thead th {\n",
       "        text-align: right;\n",
       "    }\n",
       "</style>\n",
       "<table border=\"1\" class=\"dataframe\">\n",
       "  <thead>\n",
       "    <tr style=\"text-align: right;\">\n",
       "      <th></th>\n",
       "      <th>FIRST_WORD</th>\n",
       "      <th>FIRST_WORD_POS</th>\n",
       "      <th>FIRST_NBOR_POS</th>\n",
       "      <th>ROOT_TAG</th>\n",
       "      <th>LABEL</th>\n",
       "    </tr>\n",
       "  </thead>\n",
       "  <tbody>\n",
       "    <tr>\n",
       "      <th>10</th>\n",
       "      <td>when</td>\n",
       "      <td>WRB</td>\n",
       "      <td>VBD</td>\n",
       "      <td>VBN</td>\n",
       "      <td>when</td>\n",
       "    </tr>\n",
       "    <tr>\n",
       "      <th>36</th>\n",
       "      <td>when</td>\n",
       "      <td>WRB</td>\n",
       "      <td>VBD</td>\n",
       "      <td>VB</td>\n",
       "      <td>when</td>\n",
       "    </tr>\n",
       "    <tr>\n",
       "      <th>90</th>\n",
       "      <td>when</td>\n",
       "      <td>WRB</td>\n",
       "      <td>VBD</td>\n",
       "      <td>VB</td>\n",
       "      <td>when</td>\n",
       "    </tr>\n",
       "    <tr>\n",
       "      <th>203</th>\n",
       "      <td>when</td>\n",
       "      <td>WRB</td>\n",
       "      <td>VBD</td>\n",
       "      <td>VBD</td>\n",
       "      <td>when</td>\n",
       "    </tr>\n",
       "    <tr>\n",
       "      <th>228</th>\n",
       "      <td>when</td>\n",
       "      <td>WRB</td>\n",
       "      <td>VBD</td>\n",
       "      <td>VB</td>\n",
       "      <td>when</td>\n",
       "    </tr>\n",
       "  </tbody>\n",
       "</table>\n",
       "</div>"
      ],
      "text/plain": [
       "    FIRST_WORD FIRST_WORD_POS FIRST_NBOR_POS ROOT_TAG LABEL\n",
       "10        when            WRB            VBD      VBN  when\n",
       "36        when            WRB            VBD       VB  when\n",
       "90        when            WRB            VBD       VB  when\n",
       "203       when            WRB            VBD      VBD  when\n",
       "228       when            WRB            VBD       VB  when"
      ]
     },
     "execution_count": 45,
     "metadata": {},
     "output_type": "execute_result"
    }
   ],
   "source": [
    "when_data.head()"
   ]
  },
  {
   "cell_type": "code",
   "execution_count": 46,
   "metadata": {
    "collapsed": true
   },
   "outputs": [],
   "source": [
    "first_word_pos = when_data.groupby(\n",
    "    ['FIRST_WORD_POS','FIRST_WORD']).size().reset_index().rename(columns={\n",
    "        0: 'COUNT'\n",
    "    }).sort_values(\n",
    "        'COUNT', ascending=False)"
   ]
  },
  {
   "cell_type": "code",
   "execution_count": 47,
   "metadata": {
    "collapsed": false
   },
   "outputs": [
    {
     "data": {
      "text/plain": [
       "<matplotlib.axes._subplots.AxesSubplot at 0x7ff878f85748>"
      ]
     },
     "execution_count": 47,
     "metadata": {},
     "output_type": "execute_result"
    },
    {
     "data": {
      "image/png": "[encoded data removed]",
      "text/plain": [
       "<Figure size 400x500 with 1 Axes>"
      ]
     },
     "metadata": {},
     "output_type": "display_data"
    }
   ],
   "source": [
    "f, ax = plt.subplots(figsize=(4, 5))\n",
    "sns.barplot(\n",
    "    x=\"FIRST_WORD\",y='COUNT',hue=\"FIRST_WORD_POS\", data=first_word_pos,dodge=False)"
   ]
  },
  {
   "cell_type": "code",
   "execution_count": 48,
   "metadata": {
    "collapsed": true
   },
   "outputs": [],
   "source": [
    "#since first word'when' is always WRB..lets check neighbour word POS"
   ]
  },
  {
   "cell_type": "code",
   "execution_count": 49,
   "metadata": {
    "collapsed": true
   },
   "outputs": [],
   "source": [
    "nbor_word_pos = when_data[when_data['FIRST_WORD']=='when'].groupby(\n",
    "    ['FIRST_WORD_POS','FIRST_NBOR_POS']).size().reset_index().rename(columns={\n",
    "        0: 'COUNT'\n",
    "    }).sort_values(\n",
    "        'COUNT', ascending=False)"
   ]
  },
  {
   "cell_type": "code",
   "execution_count": 50,
   "metadata": {
    "collapsed": false
   },
   "outputs": [
    {
     "data": {
      "text/plain": [
       "<matplotlib.axes._subplots.AxesSubplot at 0x7ff878f43e80>"
      ]
     },
     "execution_count": 50,
     "metadata": {},
     "output_type": "execute_result"
    },
    {
     "data": {
      "image/png": "[encoded data removed]",
      "text/plain": [
       "<Figure size 1000x500 with 1 Axes>"
      ]
     },
     "metadata": {},
     "output_type": "display_data"
    }
   ],
   "source": [
    "f, ax = plt.subplots(figsize=(10, 5))\n",
    "sns.barplot(\n",
    "    x=\"FIRST_NBOR_POS\",y='COUNT', data=nbor_word_pos,dodge=False)"
   ]
  },
  {
   "cell_type": "code",
   "execution_count": 51,
   "metadata": {
    "collapsed": true
   },
   "outputs": [],
   "source": [
    "##lets check count is 1"
   ]
  },
  {
   "cell_type": "code",
   "execution_count": 52,
   "metadata": {
    "collapsed": false
   },
   "outputs": [
    {
     "data": {
      "text/html": [
       "<div>\n",
       "<style scoped>\n",
       "    .dataframe tbody tr th:only-of-type {\n",
       "        vertical-align: middle;\n",
       "    }\n",
       "\n",
       "    .dataframe tbody tr th {\n",
       "        vertical-align: top;\n",
       "    }\n",
       "\n",
       "    .dataframe thead th {\n",
       "        text-align: right;\n",
       "    }\n",
       "</style>\n",
       "<table border=\"1\" class=\"dataframe\">\n",
       "  <thead>\n",
       "    <tr style=\"text-align: right;\">\n",
       "      <th></th>\n",
       "      <th>FIRST_WORD_POS</th>\n",
       "      <th>FIRST_NBOR_POS</th>\n",
       "      <th>COUNT</th>\n",
       "    </tr>\n",
       "  </thead>\n",
       "  <tbody>\n",
       "    <tr>\n",
       "      <th>0</th>\n",
       "      <td>WRB</td>\n",
       "      <td>DT</td>\n",
       "      <td>1</td>\n",
       "    </tr>\n",
       "    <tr>\n",
       "      <th>1</th>\n",
       "      <td>WRB</td>\n",
       "      <td>JJ</td>\n",
       "      <td>1</td>\n",
       "    </tr>\n",
       "    <tr>\n",
       "      <th>3</th>\n",
       "      <td>WRB</td>\n",
       "      <td>NN</td>\n",
       "      <td>1</td>\n",
       "    </tr>\n",
       "    <tr>\n",
       "      <th>4</th>\n",
       "      <td>WRB</td>\n",
       "      <td>PRP</td>\n",
       "      <td>1</td>\n",
       "    </tr>\n",
       "    <tr>\n",
       "      <th>5</th>\n",
       "      <td>WRB</td>\n",
       "      <td>RB</td>\n",
       "      <td>1</td>\n",
       "    </tr>\n",
       "    <tr>\n",
       "      <th>7</th>\n",
       "      <td>WRB</td>\n",
       "      <td>VBG</td>\n",
       "      <td>1</td>\n",
       "    </tr>\n",
       "  </tbody>\n",
       "</table>\n",
       "</div>"
      ],
      "text/plain": [
       "  FIRST_WORD_POS FIRST_NBOR_POS  COUNT\n",
       "0            WRB             DT      1\n",
       "1            WRB             JJ      1\n",
       "3            WRB             NN      1\n",
       "4            WRB            PRP      1\n",
       "5            WRB             RB      1\n",
       "7            WRB            VBG      1"
      ]
     },
     "execution_count": 52,
     "metadata": {},
     "output_type": "execute_result"
    }
   ],
   "source": [
    "nbor_word_pos[nbor_word_pos['COUNT']==1]"
   ]
  },
  {
   "cell_type": "code",
   "execution_count": 53,
   "metadata": {
    "collapsed": false
   },
   "outputs": [
    {
     "data": {
      "text/html": [
       "<div>\n",
       "<style scoped>\n",
       "    .dataframe tbody tr th:only-of-type {\n",
       "        vertical-align: middle;\n",
       "    }\n",
       "\n",
       "    .dataframe tbody tr th {\n",
       "        vertical-align: top;\n",
       "    }\n",
       "\n",
       "    .dataframe thead th {\n",
       "        text-align: right;\n",
       "    }\n",
       "</style>\n",
       "<table border=\"1\" class=\"dataframe\">\n",
       "  <thead>\n",
       "    <tr style=\"text-align: right;\">\n",
       "      <th></th>\n",
       "      <th>FIRST_WORD</th>\n",
       "      <th>FIRST_WORD_POS</th>\n",
       "      <th>FIRST_NBOR_POS</th>\n",
       "      <th>ROOT_TAG</th>\n",
       "      <th>LABEL</th>\n",
       "    </tr>\n",
       "  </thead>\n",
       "  <tbody>\n",
       "    <tr>\n",
       "      <th>589</th>\n",
       "      <td>when</td>\n",
       "      <td>WRB</td>\n",
       "      <td>VBG</td>\n",
       "      <td>NN</td>\n",
       "      <td>when</td>\n",
       "    </tr>\n",
       "    <tr>\n",
       "      <th>1223</th>\n",
       "      <td>when</td>\n",
       "      <td>WRB</td>\n",
       "      <td>DT</td>\n",
       "      <td>VBD</td>\n",
       "      <td>when</td>\n",
       "    </tr>\n",
       "    <tr>\n",
       "      <th>1225</th>\n",
       "      <td>when</td>\n",
       "      <td>WRB</td>\n",
       "      <td>JJ</td>\n",
       "      <td>VBD</td>\n",
       "      <td>when</td>\n",
       "    </tr>\n",
       "    <tr>\n",
       "      <th>1228</th>\n",
       "      <td>when</td>\n",
       "      <td>WRB</td>\n",
       "      <td>PRP</td>\n",
       "      <td>VBZ</td>\n",
       "      <td>when</td>\n",
       "    </tr>\n",
       "    <tr>\n",
       "      <th>1247</th>\n",
       "      <td>when</td>\n",
       "      <td>WRB</td>\n",
       "      <td>NN</td>\n",
       "      <td>VBZ</td>\n",
       "      <td>when</td>\n",
       "    </tr>\n",
       "    <tr>\n",
       "      <th>1263</th>\n",
       "      <td>when</td>\n",
       "      <td>WRB</td>\n",
       "      <td>RB</td>\n",
       "      <td>VB</td>\n",
       "      <td>when</td>\n",
       "    </tr>\n",
       "  </tbody>\n",
       "</table>\n",
       "</div>"
      ],
      "text/plain": [
       "     FIRST_WORD FIRST_WORD_POS FIRST_NBOR_POS ROOT_TAG LABEL\n",
       "589        when            WRB            VBG       NN  when\n",
       "1223       when            WRB             DT      VBD  when\n",
       "1225       when            WRB             JJ      VBD  when\n",
       "1228       when            WRB            PRP      VBZ  when\n",
       "1247       when            WRB             NN      VBZ  when\n",
       "1263       when            WRB             RB       VB  when"
      ]
     },
     "execution_count": 53,
     "metadata": {},
     "output_type": "execute_result"
    }
   ],
   "source": [
    "when_data[(when_data['FIRST_WORD'].isin(['when']))\n",
    "          & (when_data['FIRST_NBOR_POS'].isin(['DT', 'JJ','NN','PRP','RB','VBG']))]"
   ]
  },
  {
   "cell_type": "code",
   "execution_count": 54,
   "metadata": {
    "collapsed": true
   },
   "outputs": [],
   "source": [
    "##for any question WH-adverb cannot come with determiner,proper noun,noun,adverb.so these are all wrong \n",
    "#observations or outliers and can be removed from our dataset"
   ]
  },
  {
   "cell_type": "code",
   "execution_count": 55,
   "metadata": {
    "collapsed": false
   },
   "outputs": [],
   "source": [
    "when_data = when_data[~((when_data['FIRST_WORD'].isin(['when']))\n",
    "          & (when_data['FIRST_NBOR_POS'].isin(['DT', 'JJ','NN','PRP','RB','VBG'])))]"
   ]
  },
  {
   "cell_type": "markdown",
   "metadata": {},
   "source": [
    "### 'unknown' data"
   ]
  },
  {
   "cell_type": "code",
   "execution_count": 56,
   "metadata": {
    "collapsed": true
   },
   "outputs": [],
   "source": [
    "unknown_data = training_data[(training_data['LABEL']=='unknown')]"
   ]
  },
  {
   "cell_type": "code",
   "execution_count": 57,
   "metadata": {
    "collapsed": false
   },
   "outputs": [
    {
     "data": {
      "text/html": [
       "<div>\n",
       "<style scoped>\n",
       "    .dataframe tbody tr th:only-of-type {\n",
       "        vertical-align: middle;\n",
       "    }\n",
       "\n",
       "    .dataframe tbody tr th {\n",
       "        vertical-align: top;\n",
       "    }\n",
       "\n",
       "    .dataframe thead th {\n",
       "        text-align: right;\n",
       "    }\n",
       "</style>\n",
       "<table border=\"1\" class=\"dataframe\">\n",
       "  <thead>\n",
       "    <tr style=\"text-align: right;\">\n",
       "      <th></th>\n",
       "      <th>FIRST_WORD</th>\n",
       "      <th>FIRST_WORD_POS</th>\n",
       "      <th>FIRST_NBOR_POS</th>\n",
       "      <th>ROOT_TAG</th>\n",
       "      <th>LABEL</th>\n",
       "    </tr>\n",
       "  </thead>\n",
       "  <tbody>\n",
       "    <tr>\n",
       "      <th>0</th>\n",
       "      <td>how</td>\n",
       "      <td>WRB</td>\n",
       "      <td>VBD</td>\n",
       "      <td>VB</td>\n",
       "      <td>unknown</td>\n",
       "    </tr>\n",
       "    <tr>\n",
       "      <th>2</th>\n",
       "      <td>how</td>\n",
       "      <td>WRB</td>\n",
       "      <td>MD</td>\n",
       "      <td>VB</td>\n",
       "      <td>unknown</td>\n",
       "    </tr>\n",
       "    <tr>\n",
       "      <th>9</th>\n",
       "      <td>name</td>\n",
       "      <td>VB</td>\n",
       "      <td>DT</td>\n",
       "      <td>VB</td>\n",
       "      <td>unknown</td>\n",
       "    </tr>\n",
       "    <tr>\n",
       "      <th>11</th>\n",
       "      <td>why</td>\n",
       "      <td>WRB</td>\n",
       "      <td>VBP</td>\n",
       "      <td>RB</td>\n",
       "      <td>unknown</td>\n",
       "    </tr>\n",
       "    <tr>\n",
       "      <th>17</th>\n",
       "      <td>how</td>\n",
       "      <td>WRB</td>\n",
       "      <td>JJ</td>\n",
       "      <td>VBN</td>\n",
       "      <td>unknown</td>\n",
       "    </tr>\n",
       "  </tbody>\n",
       "</table>\n",
       "</div>"
      ],
      "text/plain": [
       "   FIRST_WORD FIRST_WORD_POS FIRST_NBOR_POS ROOT_TAG    LABEL\n",
       "0         how            WRB            VBD       VB  unknown\n",
       "2         how            WRB             MD       VB  unknown\n",
       "9        name             VB             DT       VB  unknown\n",
       "11        why            WRB            VBP       RB  unknown\n",
       "17        how            WRB             JJ      VBN  unknown"
      ]
     },
     "execution_count": 57,
     "metadata": {},
     "output_type": "execute_result"
    }
   ],
   "source": [
    "unknown_data.head()"
   ]
  },
  {
   "cell_type": "code",
   "execution_count": 58,
   "metadata": {
    "collapsed": true
   },
   "outputs": [],
   "source": [
    "first_word_df = unknown_data.groupby(\n",
    "    'FIRST_WORD').size().reset_index().rename(columns={\n",
    "        0: 'COUNT'\n",
    "    }).sort_values(\n",
    "        'COUNT', ascending=False)"
   ]
  },
  {
   "cell_type": "code",
   "execution_count": 59,
   "metadata": {
    "collapsed": false
   },
   "outputs": [
    {
     "data": {
      "image/png": "[encoded data removed]",
      "text/plain": [
       "<Figure size 800x400 with 1 Axes>"
      ]
     },
     "metadata": {},
     "output_type": "display_data"
    }
   ],
   "source": [
    "f, ax = plt.subplots(figsize=(8, 4))\n",
    "ax = sns.barplot(x=\"FIRST_WORD\", y=\"COUNT\", data=first_word_df)"
   ]
  },
  {
   "cell_type": "code",
   "execution_count": 60,
   "metadata": {
    "collapsed": false,
    "scrolled": true
   },
   "outputs": [],
   "source": [
    "#as we can see first word 'what','who','when','is' is also coming..so these are also outliers\n",
    "#for this set of data..we can remove these as well"
   ]
  },
  {
   "cell_type": "code",
   "execution_count": 61,
   "metadata": {
    "collapsed": false,
    "scrolled": false
   },
   "outputs": [],
   "source": [
    "unknown_data = unknown_data[~unknown_data['FIRST_WORD'].isin(['what','who','when','is'])]"
   ]
  },
  {
   "cell_type": "code",
   "execution_count": 62,
   "metadata": {
    "collapsed": false
   },
   "outputs": [
    {
     "data": {
      "text/plain": [
       "(103, 607, 90, 402, 257)"
      ]
     },
     "execution_count": 62,
     "metadata": {},
     "output_type": "execute_result"
    }
   ],
   "source": [
    "len(affirmation_data),len(what_data),len(when_data),len(who_data),len(unknown_data)"
   ]
  },
  {
   "cell_type": "code",
   "execution_count": 63,
   "metadata": {
    "collapsed": false
   },
   "outputs": [
    {
     "data": {
      "text/plain": [
       "1459"
      ]
     },
     "execution_count": 63,
     "metadata": {},
     "output_type": "execute_result"
    }
   ],
   "source": [
    "len(affirmation_data)+len(what_data)+len(when_data)+len(who_data)+len(unknown_data)"
   ]
  },
  {
   "cell_type": "code",
   "execution_count": 64,
   "metadata": {
    "collapsed": false
   },
   "outputs": [
    {
     "data": {
      "text/plain": [
       "1483"
      ]
     },
     "execution_count": 64,
     "metadata": {},
     "output_type": "execute_result"
    }
   ],
   "source": [
    "len(training_data)"
   ]
  },
  {
   "cell_type": "markdown",
   "metadata": {
    "collapsed": true
   },
   "source": [
    "Merging all dataframes"
   ]
  },
  {
   "cell_type": "code",
   "execution_count": 65,
   "metadata": {
    "collapsed": true
   },
   "outputs": [],
   "source": [
    "training_data = affirmation_data.append(what_data,ignore_index=True)\n",
    "training_data = training_data.append(when_data,ignore_index=True)\n",
    "training_data = training_data.append(who_data,ignore_index=True)\n",
    "training_data = training_data.append(unknown_data,ignore_index=True)"
   ]
  },
  {
   "cell_type": "code",
   "execution_count": 66,
   "metadata": {
    "collapsed": false
   },
   "outputs": [],
   "source": [
    "#our model should not break when some other feature class comes while testing..so to avoid that\n",
    "#we are training our model with 'OTHERS' category and assign it to 'unknown' category"
   ]
  },
  {
   "cell_type": "code",
   "execution_count": 67,
   "metadata": {
    "collapsed": true
   },
   "outputs": [],
   "source": [
    "training_data.loc[len(training_data)]=['OTHERS']*4+['unknown']"
   ]
  },
  {
   "cell_type": "markdown",
   "metadata": {
    "collapsed": true
   },
   "source": [
    "Label encoding and one hot encoding"
   ]
  },
  {
   "cell_type": "code",
   "execution_count": 68,
   "metadata": {
    "collapsed": true
   },
   "outputs": [],
   "source": [
    "from sklearn.preprocessing import LabelEncoder,OneHotEncoder"
   ]
  },
  {
   "cell_type": "code",
   "execution_count": 69,
   "metadata": {
    "collapsed": true
   },
   "outputs": [],
   "source": [
    "def label_func(label):\n",
    "    return label_dict[label]"
   ]
  },
  {
   "cell_type": "code",
   "execution_count": 70,
   "metadata": {
    "collapsed": false,
    "scrolled": true
   },
   "outputs": [],
   "source": [
    "training_data['LABEL'] = training_data['LABEL'].apply(label_func)"
   ]
  },
  {
   "cell_type": "code",
   "execution_count": 71,
   "metadata": {
    "collapsed": true
   },
   "outputs": [],
   "source": [
    "Y = training_data['LABEL'].values"
   ]
  },
  {
   "cell_type": "code",
   "execution_count": 72,
   "metadata": {
    "collapsed": false
   },
   "outputs": [],
   "source": [
    "X = training_data[['FIRST_WORD','FIRST_WORD_POS','FIRST_NBOR_POS','ROOT_TAG']].values"
   ]
  },
  {
   "cell_type": "code",
   "execution_count": 73,
   "metadata": {
    "collapsed": true
   },
   "outputs": [],
   "source": [
    "X = X.astype('str')"
   ]
  },
  {
   "cell_type": "code",
   "execution_count": 74,
   "metadata": {
    "collapsed": false
   },
   "outputs": [],
   "source": [
    "labelencoder_dict = {}\n",
    "onehotencoder_dict = {}\n",
    "X_train = None\n",
    "for i in range(0, X.shape[1]):\n",
    "    label_encoder = LabelEncoder()\n",
    "    labelencoder_dict[i] = label_encoder\n",
    "    feature = label_encoder.fit_transform(X[:,i])\n",
    "    feature = feature.reshape(X.shape[0], 1)\n",
    "    onehot_encoder = OneHotEncoder(sparse=False)\n",
    "    feature = onehot_encoder.fit_transform(feature)\n",
    "    onehotencoder_dict[i] = onehot_encoder\n",
    "    if X_train is None:\n",
    "        X_train = feature\n",
    "    else:\n",
    "        X_train = np.concatenate((X_train, feature), axis=1)"
   ]
  },
  {
   "cell_type": "code",
   "execution_count": 75,
   "metadata": {
    "collapsed": false
   },
   "outputs": [],
   "source": [
    "with open('labelencoder_dict.pickle','wb') as fh:\n",
    "    pickle.dump(labelencoder_dict,fh)\n",
    "\n",
    "with open('onehotencoder_dict.pickle','wb') as fh:\n",
    "    pickle.dump(onehotencoder_dict,fh)"
   ]
  },
  {
   "cell_type": "code",
   "execution_count": 76,
   "metadata": {
    "collapsed": false
   },
   "outputs": [
    {
     "data": {
      "text/plain": [
       "(1460, 72)"
      ]
     },
     "execution_count": 76,
     "metadata": {},
     "output_type": "execute_result"
    }
   ],
   "source": [
    "X_train.shape"
   ]
  },
  {
   "cell_type": "code",
   "execution_count": 77,
   "metadata": {
    "collapsed": true
   },
   "outputs": [],
   "source": [
    "from sklearn.model_selection import train_test_split"
   ]
  },
  {
   "cell_type": "code",
   "execution_count": 78,
   "metadata": {
    "collapsed": false
   },
   "outputs": [],
   "source": [
    "X_train,X_eval,y_train,y_eval = train_test_split(X_train,Y,test_size=0.20,random_state =41)"
   ]
  },
  {
   "cell_type": "markdown",
   "metadata": {
    "collapsed": true
   },
   "source": [
    "## Model Training "
   ]
  },
  {
   "cell_type": "code",
   "execution_count": 79,
   "metadata": {
    "collapsed": true
   },
   "outputs": [],
   "source": [
    "##Using decision tree classifier\n",
    "from sklearn import tree"
   ]
  },
  {
   "cell_type": "code",
   "execution_count": 80,
   "metadata": {
    "collapsed": true
   },
   "outputs": [],
   "source": [
    "model = tree.DecisionTreeClassifier()"
   ]
  },
  {
   "cell_type": "code",
   "execution_count": 81,
   "metadata": {
    "collapsed": false
   },
   "outputs": [
    {
     "data": {
      "text/plain": [
       "DecisionTreeClassifier(class_weight=None, criterion='gini', max_depth=None,\n",
       "            max_features=None, max_leaf_nodes=None,\n",
       "            min_impurity_decrease=0.0, min_impurity_split=None,\n",
       "            min_samples_leaf=1, min_samples_split=2,\n",
       "            min_weight_fraction_leaf=0.0, presort=False, random_state=None,\n",
       "            splitter='best')"
      ]
     },
     "execution_count": 81,
     "metadata": {},
     "output_type": "execute_result"
    }
   ],
   "source": [
    "model.fit(X_train,y_train)"
   ]
  },
  {
   "cell_type": "code",
   "execution_count": 82,
   "metadata": {
    "collapsed": true
   },
   "outputs": [],
   "source": [
    "with open('model.pickle','wb') as fh:\n",
    "    pickle.dump(model,fh)"
   ]
  },
  {
   "cell_type": "code",
   "execution_count": 83,
   "metadata": {
    "collapsed": true
   },
   "outputs": [],
   "source": [
    "y_pred = model.predict(X_eval)"
   ]
  },
  {
   "cell_type": "code",
   "execution_count": 84,
   "metadata": {
    "collapsed": true
   },
   "outputs": [],
   "source": [
    "from sklearn.metrics import confusion_matrix, accuracy_score, precision_recall_fscore_support as score"
   ]
  },
  {
   "cell_type": "code",
   "execution_count": 85,
   "metadata": {
    "collapsed": false
   },
   "outputs": [
    {
     "data": {
      "text/plain": [
       "0.9965753424657534"
      ]
     },
     "execution_count": 85,
     "metadata": {},
     "output_type": "execute_result"
    }
   ],
   "source": [
    "model.score(X_eval,y_eval)"
   ]
  },
  {
   "cell_type": "code",
   "execution_count": 86,
   "metadata": {
    "collapsed": false
   },
   "outputs": [
    {
     "data": {
      "text/plain": [
       "array([[ 85,   0,   0,   0,   0],\n",
       "       [  0, 115,   1,   0,   0],\n",
       "       [  0,   0,  20,   0,   0],\n",
       "       [  0,   0,   0,  18,   0],\n",
       "       [  0,   0,   0,   0,  53]])"
      ]
     },
     "execution_count": 86,
     "metadata": {},
     "output_type": "execute_result"
    }
   ],
   "source": [
    "confusion_matrix(y_eval, y_pred)"
   ]
  },
  {
   "cell_type": "code",
   "execution_count": 87,
   "metadata": {
    "collapsed": false
   },
   "outputs": [
    {
     "name": "stdout",
     "output_type": "stream",
     "text": [
      "precision: [1.         1.         0.95238095 1.         1.        ]\n",
      "recall: [1.         0.99137931 1.         1.         1.        ]\n",
      "fscore: [1.         0.995671   0.97560976 1.         1.        ]\n"
     ]
    }
   ],
   "source": [
    "precision, recall, fscore, support = score(y_eval, y_pred)\n",
    "\n",
    "print('precision: {}'.format(precision))\n",
    "print('recall: {}'.format(recall))\n",
    "print('fscore: {}'.format(fscore))"
   ]
  },
  {
   "cell_type": "code",
   "execution_count": 88,
   "metadata": {
    "collapsed": true
   },
   "outputs": [],
   "source": [
    "#fscore for all classes seems good enough"
   ]
  },
  {
   "cell_type": "markdown",
   "metadata": {},
   "source": [
    "## Model Testing"
   ]
  },
  {
   "cell_type": "code",
   "execution_count": 89,
   "metadata": {
    "collapsed": true
   },
   "outputs": [],
   "source": [
    "## Reading Testing data,model trained and encoders"
   ]
  },
  {
   "cell_type": "code",
   "execution_count": 90,
   "metadata": {
    "collapsed": true
   },
   "outputs": [],
   "source": [
    "test_data = pd.read_pickle('testing_data.pickle')\n",
    "model = pd.read_pickle('model.pickle')\n",
    "labelencoder_dict = pd.read_pickle('labelencoder_dict.pickle')\n",
    "onehotencoder_dict = pd.read_pickle('onehotencoder_dict.pickle')"
   ]
  },
  {
   "cell_type": "code",
   "execution_count": 91,
   "metadata": {
    "collapsed": true
   },
   "outputs": [],
   "source": [
    "##to ensure that whatever data is coming for testing should bypass our code\n",
    "##if any feature class is not found then it will be replace by below logic"
   ]
  },
  {
   "cell_type": "code",
   "execution_count": 92,
   "metadata": {
    "collapsed": true
   },
   "outputs": [],
   "source": [
    "missing_columns_lookup = {}"
   ]
  },
  {
   "cell_type": "code",
   "execution_count": 93,
   "metadata": {
    "collapsed": true
   },
   "outputs": [],
   "source": [
    "missing_columns_lookup['FIRST_WORD'] = [\n",
    "    'is', 'does', 'will', 'can', 'do', 'could', 'has', 'would', 'are', 'what',\n",
    "    'when', 'who', 'how', 'name', 'why', 'which', 'where', 'define', 'give',\n",
    "    'whose', 'that', 'whom', 'costs'\n",
    "]\n",
    "\n",
    "missing_columns_lookup['FIRST_WORD_POS'] = [\n",
    "    'VBZ', 'MD', 'VBP', 'WP', 'WDT', 'WRB', 'VB', 'NN', 'WP$'\n",
    "]\n",
    "\n",
    "missing_columns_lookup['FIRST_NBOR_POS'] = [\n",
    "    'EX', 'PRP', 'DT', 'JJR', 'NN', 'VB', 'NNS', 'VBZ', 'JJ', 'VBP', 'VBG',\n",
    "    'VBD', 'NNP', 'CD', '.', '``', 'RB', 'MD', 'IN'\n",
    "]\n",
    "\n",
    "missing_columns_lookup['ROOT_TAG'] = ['VBZ', 'VBG', 'VB', 'NN', 'VBN', 'VBP', 'JJ', 'VBD', 'NNS', 'IN',\n",
    "       'NNP', 'UH', 'RB', 'PRP', 'JJR', 'POS', '.']"
   ]
  },
  {
   "cell_type": "code",
   "execution_count": 94,
   "metadata": {
    "collapsed": true
   },
   "outputs": [],
   "source": [
    "def validate_param(value1,value2,value3,value4):\n",
    "    params = []\n",
    "    if value1 not in missing_columns_lookup['FIRST_WORD']:\n",
    "        params.append('OTHERS')\n",
    "    else:\n",
    "        params.append(value1)\n",
    "    if value2 not in missing_columns_lookup['FIRST_WORD_POS']:\n",
    "        params.append('OTHERS')\n",
    "    else:\n",
    "        params.append(value2)\n",
    "    if value3 not in missing_columns_lookup['FIRST_NBOR_POS']:\n",
    "        params.append('OTHERS')\n",
    "    else:\n",
    "        params.append(value3)\n",
    "    if value4 not in missing_columns_lookup['ROOT_TAG']:\n",
    "        params.append('OTHERS')\n",
    "    else:\n",
    "        params.append(value4)\n",
    "    return params"
   ]
  },
  {
   "cell_type": "code",
   "execution_count": 95,
   "metadata": {
    "collapsed": false
   },
   "outputs": [],
   "source": [
    "data = []\n",
    "for index, row in test_data.iterrows():\n",
    "    data.append(validate_param(row[0], row[1], row[2], row[3]))"
   ]
  },
  {
   "cell_type": "code",
   "execution_count": 96,
   "metadata": {
    "collapsed": false
   },
   "outputs": [],
   "source": [
    "test_data = pd.DataFrame(data=data,columns=feature_columns)"
   ]
  },
  {
   "cell_type": "code",
   "execution_count": 97,
   "metadata": {
    "collapsed": true
   },
   "outputs": [],
   "source": [
    "X = test_data.values"
   ]
  },
  {
   "cell_type": "code",
   "execution_count": 98,
   "metadata": {
    "collapsed": true
   },
   "outputs": [],
   "source": [
    "X = X.astype('str')"
   ]
  },
  {
   "cell_type": "code",
   "execution_count": 99,
   "metadata": {
    "collapsed": true
   },
   "outputs": [],
   "source": [
    "def getEncoded(test_data,labelencoder_dict,onehotencoder_dict):\n",
    "    test_encoded_x = None\n",
    "    for i in range(0,test_data.shape[1]):\n",
    "        label_encoder =  labelencoder_dict[i]\n",
    "        feature = label_encoder.transform(test_data[:,i])\n",
    "        feature = feature.reshape(test_data.shape[0], 1)\n",
    "        onehot_encoder = onehotencoder_dict[i]\n",
    "        feature = onehot_encoder.transform(feature)\n",
    "        if test_encoded_x is None:\n",
    "            test_encoded_x = feature\n",
    "        else:\n",
    "            test_encoded_x = np.concatenate((test_encoded_x, feature), axis=1)\n",
    "    return test_encoded_x"
   ]
  },
  {
   "cell_type": "code",
   "execution_count": 100,
   "metadata": {
    "collapsed": false
   },
   "outputs": [],
   "source": [
    "X_test = getEncoded(X,labelencoder_dict,onehotencoder_dict)"
   ]
  },
  {
   "cell_type": "code",
   "execution_count": 101,
   "metadata": {
    "collapsed": false
   },
   "outputs": [
    {
     "data": {
      "text/plain": [
       "(1000, 72)"
      ]
     },
     "execution_count": 101,
     "metadata": {},
     "output_type": "execute_result"
    }
   ],
   "source": [
    "X_test.shape"
   ]
  },
  {
   "cell_type": "code",
   "execution_count": 102,
   "metadata": {
    "collapsed": false
   },
   "outputs": [],
   "source": [
    "y_predict = model.predict(X_test)"
   ]
  },
  {
   "cell_type": "code",
   "execution_count": 103,
   "metadata": {
    "collapsed": true
   },
   "outputs": [],
   "source": [
    "##Reading Parsed sentences data\n",
    "test_data = pd.read_pickle('parsed_sentences.pickle')"
   ]
  },
  {
   "cell_type": "code",
   "execution_count": 104,
   "metadata": {
    "collapsed": true
   },
   "outputs": [],
   "source": [
    "test_data['LABEL'] = y_predict"
   ]
  },
  {
   "cell_type": "code",
   "execution_count": 105,
   "metadata": {
    "collapsed": false,
    "scrolled": true
   },
   "outputs": [],
   "source": [
    "test_data['LABEL'] = test_data['LABEL'].apply(label_func)"
   ]
  },
  {
   "cell_type": "code",
   "execution_count": 106,
   "metadata": {
    "collapsed": false,
    "scrolled": true
   },
   "outputs": [
    {
     "data": {
      "text/html": [
       "<div>\n",
       "<style scoped>\n",
       "    .dataframe tbody tr th:only-of-type {\n",
       "        vertical-align: middle;\n",
       "    }\n",
       "\n",
       "    .dataframe tbody tr th {\n",
       "        vertical-align: top;\n",
       "    }\n",
       "\n",
       "    .dataframe thead th {\n",
       "        text-align: right;\n",
       "    }\n",
       "</style>\n",
       "<table border=\"1\" class=\"dataframe\">\n",
       "  <thead>\n",
       "    <tr style=\"text-align: right;\">\n",
       "      <th></th>\n",
       "      <th>SENTENCES</th>\n",
       "      <th>LABEL</th>\n",
       "    </tr>\n",
       "  </thead>\n",
       "  <tbody>\n",
       "    <tr>\n",
       "      <th>0</th>\n",
       "      <td>How did serfdom develop in and then leave Russ...</td>\n",
       "      <td>unknown</td>\n",
       "    </tr>\n",
       "    <tr>\n",
       "      <th>1</th>\n",
       "      <td>What films featured the character Popeye Doyle ?</td>\n",
       "      <td>what</td>\n",
       "    </tr>\n",
       "    <tr>\n",
       "      <th>2</th>\n",
       "      <td>How can I find a list of celebrities ' real na...</td>\n",
       "      <td>unknown</td>\n",
       "    </tr>\n",
       "    <tr>\n",
       "      <th>3</th>\n",
       "      <td>What fowl grabs the spotlight after the Chines...</td>\n",
       "      <td>what</td>\n",
       "    </tr>\n",
       "    <tr>\n",
       "      <th>4</th>\n",
       "      <td>What is the full form of .com ?</td>\n",
       "      <td>what</td>\n",
       "    </tr>\n",
       "    <tr>\n",
       "      <th>5</th>\n",
       "      <td>What contemptible scoundrel stole the cork fro...</td>\n",
       "      <td>what</td>\n",
       "    </tr>\n",
       "    <tr>\n",
       "      <th>6</th>\n",
       "      <td>What team did baseball 's St. Louis Browns bec...</td>\n",
       "      <td>what</td>\n",
       "    </tr>\n",
       "    <tr>\n",
       "      <th>7</th>\n",
       "      <td>What is the oldest profession ?</td>\n",
       "      <td>what</td>\n",
       "    </tr>\n",
       "    <tr>\n",
       "      <th>8</th>\n",
       "      <td>What are liver enzymes ?</td>\n",
       "      <td>what</td>\n",
       "    </tr>\n",
       "    <tr>\n",
       "      <th>9</th>\n",
       "      <td>Name the scar-faced bounty hunter of The Old W...</td>\n",
       "      <td>unknown</td>\n",
       "    </tr>\n",
       "    <tr>\n",
       "      <th>10</th>\n",
       "      <td>When was Ozzy Osbourne born ?</td>\n",
       "      <td>when</td>\n",
       "    </tr>\n",
       "    <tr>\n",
       "      <th>11</th>\n",
       "      <td>Why do heavier objects travel downhill faster ?</td>\n",
       "      <td>unknown</td>\n",
       "    </tr>\n",
       "    <tr>\n",
       "      <th>12</th>\n",
       "      <td>Who was The Pride of the Yankees ?</td>\n",
       "      <td>who</td>\n",
       "    </tr>\n",
       "    <tr>\n",
       "      <th>13</th>\n",
       "      <td>Who killed Gandhi ?</td>\n",
       "      <td>who</td>\n",
       "    </tr>\n",
       "    <tr>\n",
       "      <th>14</th>\n",
       "      <td>What is considered the costliest disaster the ...</td>\n",
       "      <td>what</td>\n",
       "    </tr>\n",
       "    <tr>\n",
       "      <th>15</th>\n",
       "      <td>What sprawling U.S. state boasts the most airp...</td>\n",
       "      <td>what</td>\n",
       "    </tr>\n",
       "    <tr>\n",
       "      <th>16</th>\n",
       "      <td>What did the only repealed amendment to the U....</td>\n",
       "      <td>what</td>\n",
       "    </tr>\n",
       "    <tr>\n",
       "      <th>17</th>\n",
       "      <td>How many Jews were executed in concentration c...</td>\n",
       "      <td>unknown</td>\n",
       "    </tr>\n",
       "    <tr>\n",
       "      <th>18</th>\n",
       "      <td>What is `` Nine Inch Nails '' ?</td>\n",
       "      <td>what</td>\n",
       "    </tr>\n",
       "    <tr>\n",
       "      <th>19</th>\n",
       "      <td>What is an annotated bibliography ?</td>\n",
       "      <td>what</td>\n",
       "    </tr>\n",
       "    <tr>\n",
       "      <th>20</th>\n",
       "      <td>What is the date of Boxing Day ?</td>\n",
       "      <td>what</td>\n",
       "    </tr>\n",
       "    <tr>\n",
       "      <th>21</th>\n",
       "      <td>What articles of clothing are tokens in Monopo...</td>\n",
       "      <td>what</td>\n",
       "    </tr>\n",
       "    <tr>\n",
       "      <th>22</th>\n",
       "      <td>Name 11 famous martyrs .</td>\n",
       "      <td>unknown</td>\n",
       "    </tr>\n",
       "    <tr>\n",
       "      <th>23</th>\n",
       "      <td>What 's the Olympic motto ?</td>\n",
       "      <td>what</td>\n",
       "    </tr>\n",
       "    <tr>\n",
       "      <th>24</th>\n",
       "      <td>What is the origin of the name ` Scarlett ' ?</td>\n",
       "      <td>what</td>\n",
       "    </tr>\n",
       "    <tr>\n",
       "      <th>25</th>\n",
       "      <td>What 's the second-most-used vowel in English ?</td>\n",
       "      <td>what</td>\n",
       "    </tr>\n",
       "    <tr>\n",
       "      <th>26</th>\n",
       "      <td>Who was the inventor of silly putty ?</td>\n",
       "      <td>who</td>\n",
       "    </tr>\n",
       "    <tr>\n",
       "      <th>27</th>\n",
       "      <td>What is the highest waterfall in the United St...</td>\n",
       "      <td>what</td>\n",
       "    </tr>\n",
       "    <tr>\n",
       "      <th>28</th>\n",
       "      <td>Name a golf course in Myrtle Beach .</td>\n",
       "      <td>unknown</td>\n",
       "    </tr>\n",
       "    <tr>\n",
       "      <th>29</th>\n",
       "      <td>Which two states enclose Chesapeake Bay ?</td>\n",
       "      <td>unknown</td>\n",
       "    </tr>\n",
       "    <tr>\n",
       "      <th>...</th>\n",
       "      <td>...</td>\n",
       "      <td>...</td>\n",
       "    </tr>\n",
       "    <tr>\n",
       "      <th>970</th>\n",
       "      <td>Name the only extant trilogy of classical Gree...</td>\n",
       "      <td>unknown</td>\n",
       "    </tr>\n",
       "    <tr>\n",
       "      <th>971</th>\n",
       "      <td>Where is Logan Airport ?</td>\n",
       "      <td>unknown</td>\n",
       "    </tr>\n",
       "    <tr>\n",
       "      <th>972</th>\n",
       "      <td>What is the difference between Neoclassical ar...</td>\n",
       "      <td>what</td>\n",
       "    </tr>\n",
       "    <tr>\n",
       "      <th>973</th>\n",
       "      <td>Who was the first person inducted into the U.S...</td>\n",
       "      <td>who</td>\n",
       "    </tr>\n",
       "    <tr>\n",
       "      <th>974</th>\n",
       "      <td>What golfer has been called Ohio Fats and Blob...</td>\n",
       "      <td>what</td>\n",
       "    </tr>\n",
       "    <tr>\n",
       "      <th>975</th>\n",
       "      <td>Who murdered Leno and Rosemary LaBianca on Aug...</td>\n",
       "      <td>who</td>\n",
       "    </tr>\n",
       "    <tr>\n",
       "      <th>976</th>\n",
       "      <td>What is the average cost for four years of med...</td>\n",
       "      <td>what</td>\n",
       "    </tr>\n",
       "    <tr>\n",
       "      <th>977</th>\n",
       "      <td>What does God create in the first sentence of ...</td>\n",
       "      <td>what</td>\n",
       "    </tr>\n",
       "    <tr>\n",
       "      <th>978</th>\n",
       "      <td>Which of the following men was not married to ...</td>\n",
       "      <td>unknown</td>\n",
       "    </tr>\n",
       "    <tr>\n",
       "      <th>979</th>\n",
       "      <td>What is the current ticket fare from from Cair...</td>\n",
       "      <td>what</td>\n",
       "    </tr>\n",
       "    <tr>\n",
       "      <th>980</th>\n",
       "      <td>What does NN O `` mean when used as a prefix i...</td>\n",
       "      <td>what</td>\n",
       "    </tr>\n",
       "    <tr>\n",
       "      <th>981</th>\n",
       "      <td>How do you find oxidation numbers ?</td>\n",
       "      <td>unknown</td>\n",
       "    </tr>\n",
       "    <tr>\n",
       "      <th>982</th>\n",
       "      <td>What is the state nickname of Mississippi ?</td>\n",
       "      <td>what</td>\n",
       "    </tr>\n",
       "    <tr>\n",
       "      <th>983</th>\n",
       "      <td>What is Black Hills , South Dakota most famous...</td>\n",
       "      <td>what</td>\n",
       "    </tr>\n",
       "    <tr>\n",
       "      <th>984</th>\n",
       "      <td>What 1966 boob tube bomb took astronauts back ...</td>\n",
       "      <td>what</td>\n",
       "    </tr>\n",
       "    <tr>\n",
       "      <th>985</th>\n",
       "      <td>How many students attend the University of Mas...</td>\n",
       "      <td>unknown</td>\n",
       "    </tr>\n",
       "    <tr>\n",
       "      <th>986</th>\n",
       "      <td>Who said , `` I shall return . '' during World...</td>\n",
       "      <td>who</td>\n",
       "    </tr>\n",
       "    <tr>\n",
       "      <th>987</th>\n",
       "      <td>What holidays are celebrated in Ireland ?</td>\n",
       "      <td>what</td>\n",
       "    </tr>\n",
       "    <tr>\n",
       "      <th>988</th>\n",
       "      <td>Who portrayed Etta Place , companion to Butch ...</td>\n",
       "      <td>who</td>\n",
       "    </tr>\n",
       "    <tr>\n",
       "      <th>989</th>\n",
       "      <td>What are the Greek numerals ?</td>\n",
       "      <td>what</td>\n",
       "    </tr>\n",
       "    <tr>\n",
       "      <th>990</th>\n",
       "      <td>What 's the name of the temple that is located...</td>\n",
       "      <td>what</td>\n",
       "    </tr>\n",
       "    <tr>\n",
       "      <th>991</th>\n",
       "      <td>What is a fear of sleep ?</td>\n",
       "      <td>what</td>\n",
       "    </tr>\n",
       "    <tr>\n",
       "      <th>992</th>\n",
       "      <td>What auto race was Wilbur Reed the first to wi...</td>\n",
       "      <td>what</td>\n",
       "    </tr>\n",
       "    <tr>\n",
       "      <th>993</th>\n",
       "      <td>What are the most common breeding birds in the...</td>\n",
       "      <td>what</td>\n",
       "    </tr>\n",
       "    <tr>\n",
       "      <th>994</th>\n",
       "      <td>What was organized as a Confederate veterans '...</td>\n",
       "      <td>what</td>\n",
       "    </tr>\n",
       "    <tr>\n",
       "      <th>995</th>\n",
       "      <td>How do you look up criminal records on the Int...</td>\n",
       "      <td>unknown</td>\n",
       "    </tr>\n",
       "    <tr>\n",
       "      <th>996</th>\n",
       "      <td>Where is the actress , Marion Davies , buried ?</td>\n",
       "      <td>unknown</td>\n",
       "    </tr>\n",
       "    <tr>\n",
       "      <th>997</th>\n",
       "      <td>What is an example of an actual case of using ...</td>\n",
       "      <td>what</td>\n",
       "    </tr>\n",
       "    <tr>\n",
       "      <th>998</th>\n",
       "      <td>Who was the Charlie perfume woman ?</td>\n",
       "      <td>who</td>\n",
       "    </tr>\n",
       "    <tr>\n",
       "      <th>999</th>\n",
       "      <td>Who portrayed `` Rosanne Rosanna-Dana '' on th...</td>\n",
       "      <td>who</td>\n",
       "    </tr>\n",
       "  </tbody>\n",
       "</table>\n",
       "<p>1000 rows × 2 columns</p>\n",
       "</div>"
      ],
      "text/plain": [
       "                                             SENTENCES    LABEL\n",
       "0    How did serfdom develop in and then leave Russ...  unknown\n",
       "1     What films featured the character Popeye Doyle ?     what\n",
       "2    How can I find a list of celebrities ' real na...  unknown\n",
       "3    What fowl grabs the spotlight after the Chines...     what\n",
       "4                      What is the full form of .com ?     what\n",
       "5    What contemptible scoundrel stole the cork fro...     what\n",
       "6    What team did baseball 's St. Louis Browns bec...     what\n",
       "7                      What is the oldest profession ?     what\n",
       "8                             What are liver enzymes ?     what\n",
       "9    Name the scar-faced bounty hunter of The Old W...  unknown\n",
       "10                       When was Ozzy Osbourne born ?     when\n",
       "11     Why do heavier objects travel downhill faster ?  unknown\n",
       "12                  Who was The Pride of the Yankees ?      who\n",
       "13                                 Who killed Gandhi ?      who\n",
       "14   What is considered the costliest disaster the ...     what\n",
       "15   What sprawling U.S. state boasts the most airp...     what\n",
       "16   What did the only repealed amendment to the U....     what\n",
       "17   How many Jews were executed in concentration c...  unknown\n",
       "18                     What is `` Nine Inch Nails '' ?     what\n",
       "19                 What is an annotated bibliography ?     what\n",
       "20                    What is the date of Boxing Day ?     what\n",
       "21   What articles of clothing are tokens in Monopo...     what\n",
       "22                            Name 11 famous martyrs .  unknown\n",
       "23                         What 's the Olympic motto ?     what\n",
       "24       What is the origin of the name ` Scarlett ' ?     what\n",
       "25     What 's the second-most-used vowel in English ?     what\n",
       "26               Who was the inventor of silly putty ?      who\n",
       "27   What is the highest waterfall in the United St...     what\n",
       "28                Name a golf course in Myrtle Beach .  unknown\n",
       "29           Which two states enclose Chesapeake Bay ?  unknown\n",
       "..                                                 ...      ...\n",
       "970  Name the only extant trilogy of classical Gree...  unknown\n",
       "971                           Where is Logan Airport ?  unknown\n",
       "972  What is the difference between Neoclassical ar...     what\n",
       "973  Who was the first person inducted into the U.S...      who\n",
       "974  What golfer has been called Ohio Fats and Blob...     what\n",
       "975  Who murdered Leno and Rosemary LaBianca on Aug...      who\n",
       "976  What is the average cost for four years of med...     what\n",
       "977  What does God create in the first sentence of ...     what\n",
       "978  Which of the following men was not married to ...  unknown\n",
       "979  What is the current ticket fare from from Cair...     what\n",
       "980  What does NN O `` mean when used as a prefix i...     what\n",
       "981                How do you find oxidation numbers ?  unknown\n",
       "982        What is the state nickname of Mississippi ?     what\n",
       "983  What is Black Hills , South Dakota most famous...     what\n",
       "984  What 1966 boob tube bomb took astronauts back ...     what\n",
       "985  How many students attend the University of Mas...  unknown\n",
       "986  Who said , `` I shall return . '' during World...      who\n",
       "987          What holidays are celebrated in Ireland ?     what\n",
       "988  Who portrayed Etta Place , companion to Butch ...      who\n",
       "989                      What are the Greek numerals ?     what\n",
       "990  What 's the name of the temple that is located...     what\n",
       "991                          What is a fear of sleep ?     what\n",
       "992  What auto race was Wilbur Reed the first to wi...     what\n",
       "993  What are the most common breeding birds in the...     what\n",
       "994  What was organized as a Confederate veterans '...     what\n",
       "995  How do you look up criminal records on the Int...  unknown\n",
       "996    Where is the actress , Marion Davies , buried ?  unknown\n",
       "997  What is an example of an actual case of using ...     what\n",
       "998                Who was the Charlie perfume woman ?      who\n",
       "999  Who portrayed `` Rosanne Rosanna-Dana '' on th...      who\n",
       "\n",
       "[1000 rows x 2 columns]"
      ]
     },
     "execution_count": 106,
     "metadata": {},
     "output_type": "execute_result"
    }
   ],
   "source": [
    "test_data"
   ]
  },
  {
   "cell_type": "code",
   "execution_count": null,
   "metadata": {
    "collapsed": true
   },
   "outputs": [],
   "source": []
  }
 ],
 "metadata": {
  "kernelspec": {
   "display_name": "Python 3",
   "language": "python",
   "name": "python3"
  },
  "language_info": {
   "codemirror_mode": {
    "name": "ipython",
    "version": 3
   },
   "file_extension": ".py",
   "mimetype": "text/x-python",
   "name": "python",
   "nbconvert_exporter": "python",
   "pygments_lexer": "ipython3",
   "version": "3.5.4"
  },
  "toc": {
   "nav_menu": {},
   "number_sections": true,
   "sideBar": true,
   "skip_h1_title": false,
   "toc_cell": false,
   "toc_position": {},
   "toc_section_display": "block",
   "toc_window_display": false
  }
 },
 "nbformat": 4,
 "nbformat_minor": 2
}
